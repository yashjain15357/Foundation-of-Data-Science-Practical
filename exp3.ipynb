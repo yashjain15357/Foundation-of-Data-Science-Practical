{
 "cells": [
  {
   "cell_type": "markdown",
   "metadata": {},
   "source": [
    "## Experiment 3\n",
    "### Creating dataframes (and its methods)"
   ]
  },
  {
   "cell_type": "code",
   "execution_count": null,
   "metadata": {},
   "outputs": [
    {
     "name": "stdout",
     "output_type": "stream",
     "text": [
      "     Name  Age       City    Fee\n",
      "0   Rohan   22       Pune  40000\n",
      "1  Ishita   23     Mumbai  50000\n",
      "2   Aarav   24      Delhi  60000\n",
      "3   Meera   21    Chennai  45000\n",
      "4   Kabir   25    Kolkata  70000\n",
      "5  Ananya   22  Bangalore  55000\n",
      "6  Vivaan   23  Hyderabad  35000\n",
      "\n",
      "select column by index: 'City', 'Age', 'Fee'\n",
      "        City  Age    Fee\n",
      "0       Pune   22  40000\n",
      "1     Mumbai   23  50000\n",
      "2      Delhi   24  60000\n",
      "3    Chennai   21  45000\n",
      "4    Kolkata   25  70000\n",
      "5  Bangalore   22  55000\n",
      "6  Hyderabad   23  35000\n",
      "\n",
      "Selecting column by index with condition : City==Mumbai\n",
      "     Name  Age    City    Fee\n",
      "1  Ishita   23  Mumbai  50000\n",
      "\n",
      "Changing DF index to 'City' with set_index() method\n",
      "             Name  Age    Fee\n",
      "City                         \n",
      "Pune        Rohan   22  40000\n",
      "Mumbai     Ishita   23  50000\n",
      "Delhi       Aarav   24  60000\n",
      "Chennai     Meera   21  45000\n",
      "Kolkata     Kabir   25  70000\n",
      "Bangalore  Ananya   22  55000\n",
      "Hyderabad  Vivaan   23  35000\n",
      "\n",
      "Selecting rows using 'loc' method where index = Mumbai, Kolkata\n",
      "           Name  Age    Fee\n",
      "City                       \n",
      "Mumbai   Ishita   23  50000\n",
      "Kolkata   Kabir   25  70000\n"
     ]
    }
   ],
   "source": [
    "import pandas as pd\n",
    "student_data = [\n",
    "    ('Rohan',22,'Pune',40000),\n",
    "    ('Ishita',23,'Mumbai',50000),\n",
    "    ('Aarav',24,'Delhi',60000),\n",
    "    ('Meera',21,'Chennai',45000),\n",
    "    ('Kabir',25,'Kolkata',70000),\n",
    "    ('Ananya',22,'Bangalore',55000),\n",
    "    ('Vivaan',23,'Hyderabad',35000)]\n",
    "df = pd.DataFrame(student_data, columns = ['Name','Age','City','Fee'])\n",
    "print(df)\n",
    "print('\\nselect column by index: \\'City\\', \\'Age\\', \\'Fee\\'')\n",
    "result1 = df[['City', 'Age', 'Fee']]\n",
    "print(result1)\n",
    "print('\\nSelecting column by index with condition : City==Mumbai')\n",
    "city = df[df['City']=='Mumbai']\n",
    "print(city)\n",
    "print('\\nChanging DF index to \\'City\\' with set_index() method')\n",
    "df.set_index(\"City\", inplace=True)\n",
    "print(df)\n",
    "print('\\nSelecting rows using \\'loc\\' method where index = Mumbai, Kolkata')\n",
    "result2 = df.loc[[\"Mumbai\",\"Kolkata\"]]\n",
    "print(result2)"
   ]
  }
 ],
 "metadata": {
  "kernelspec": {
   "display_name": "Python 3",
   "language": "python",
   "name": "python3"
  },
  "language_info": {
   "codemirror_mode": {
    "name": "ipython",
    "version": 3
   },
   "file_extension": ".py",
   "mimetype": "text/x-python",
   "name": "python",
   "nbconvert_exporter": "python",
   "pygments_lexer": "ipython3",
   "version": "3.12.5"
  }
 },
 "nbformat": 4,
 "nbformat_minor": 2
}
