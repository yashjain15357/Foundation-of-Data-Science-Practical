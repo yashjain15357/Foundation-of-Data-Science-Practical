{
 "cells": [
  {
   "cell_type": "markdown",
   "metadata": {},
   "source": [
    "### Perform different array slicing methods\n"
   ]
  },
  {
   "cell_type": "code",
   "execution_count": 2,
   "metadata": {},
   "outputs": [
    {
     "name": "stdout",
     "output_type": "stream",
     "text": [
      "\n",
      "Slicing the first two rows and columns:\n",
      "[[10 20]\n",
      " [40 50]]\n",
      "\n",
      "Slicing the last row:\n",
      "[70 80 90]\n",
      "\n",
      "Slicing the second column:\n",
      "[20 50 80]\n",
      "\n",
      "Slicing with a step:\n",
      "[[10 30]\n",
      " [70 90]]\n"
     ]
    }
   ],
   "source": [
    "import numpy as np\n",
    "\n",
    "# Define a 2D numpy array with updated values\n",
    "matrix = np.array([[10, 20, 30], [40, 50, 60], [70, 80, 90]])\n",
    "\n",
    "# Slice the array to get the first two rows and the first two columns\n",
    "print(\"\\nSlicing the first two rows and columns:\")\n",
    "print(matrix[:2, :2])\n",
    "\n",
    "# Slice the array to get the last row\n",
    "print(\"\\nSlicing the last row:\")\n",
    "print(matrix[-1, :])\n",
    "\n",
    "# Slice the array to get the second column\n",
    "print(\"\\nSlicing the second column:\")\n",
    "print(matrix[:, 1])\n",
    "\n",
    "# Slice with a step\n",
    "print(\"\\nSlicing with a step:\")\n",
    "print(matrix[::2, ::2])"
   ]
  }
 ],
 "metadata": {
  "kernelspec": {
   "display_name": "Python 3",
   "language": "python",
   "name": "python3"
  },
  "language_info": {
   "codemirror_mode": {
    "name": "ipython",
    "version": 3
   },
   "file_extension": ".py",
   "mimetype": "text/x-python",
   "name": "python",
   "nbconvert_exporter": "python",
   "pygments_lexer": "ipython3",
   "version": "3.12.5"
  }
 },
 "nbformat": 4,
 "nbformat_minor": 2
}
