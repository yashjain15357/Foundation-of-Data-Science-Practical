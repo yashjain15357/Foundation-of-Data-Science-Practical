{
 "cells": [
  {
   "cell_type": "markdown",
   "metadata": {},
   "source": [
    "## Experiment 5\n",
    "### Develop program for Variability"
   ]
  },
  {
   "cell_type": "code",
   "execution_count": 3,
   "metadata": {},
   "outputs": [
    {
     "name": "stdout",
     "output_type": "stream",
     "text": [
      "Variance of Sample 1 (Positive Integers): 15.80952380952381\n",
      "Variance of Sample 2 (Negative Integers): 3.5\n",
      "Variance of Sample 3 (Mixed Numbers): 61.125\n",
      "Variance of Sample 4 (Fractions): 1/45\n",
      "Variance of Sample 5 (Floating-Point Numbers): 0.17613000000000006\n"
     ]
    }
   ],
   "source": [
    "# Importing the variance function from the statistics module\n",
    "from statistics import variance\n",
    "from fractions import Fraction as fr  # Importing Fraction for fractional numbers\n",
    "\n",
    "# Define sample datasets\n",
    "sample1 = [1, 2, 5, 4, 8, 9, 12]  # Positive integers\n",
    "sample2 = [-2, -4, -3, -1, -5, -6]  # Negative integers\n",
    "sample3 = [-9, -1, 0, 2, 1, 3, 4, 19]  # Mixed positive and negative numbers\n",
    "sample4 = [fr(1, 2), fr(2, 3), fr(3, 4), fr(5, 6), fr(7, 8)]  # Fractional numbers\n",
    "sample5 = [1.23, 1.45, 2.1, 2.2, 1.9]  # Floating-point numbers\n",
    "\n",
    "# Calculate and print the variance for each sample\n",
    "print(\"Variance of Sample 1 (Positive Integers):\", variance(sample1))\n",
    "print(\"Variance of Sample 2 (Negative Integers):\", variance(sample2))\n",
    "print(\"Variance of Sample 3 (Mixed Numbers):\", variance(sample3))\n",
    "print(\"Variance of Sample 4 (Fractions):\", variance(sample4))\n",
    "print(\"Variance of Sample 5 (Floating-Point Numbers):\", variance(sample5))"
   ]
  }
 ],
 "metadata": {
  "kernelspec": {
   "display_name": "Python 3",
   "language": "python",
   "name": "python3"
  },
  "language_info": {
   "codemirror_mode": {
    "name": "ipython",
    "version": 3
   },
   "file_extension": ".py",
   "mimetype": "text/x-python",
   "name": "python",
   "nbconvert_exporter": "python",
   "pygments_lexer": "ipython3",
   "version": "3.12.5"
  }
 },
 "nbformat": 4,
 "nbformat_minor": 2
}
